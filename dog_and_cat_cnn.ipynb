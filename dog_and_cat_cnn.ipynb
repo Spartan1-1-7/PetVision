{
 "cells": [
  {
   "cell_type": "markdown",
   "id": "74b32240",
   "metadata": {},
   "source": [
    "### Importing Required Libraries"
   ]
  },
  {
   "cell_type": "code",
   "execution_count": 1,
   "id": "444f9f90",
   "metadata": {},
   "outputs": [],
   "source": [
    "import tensorflow as tf\n",
    "from keras.preprocessing.image import ImageDataGenerator\n"
   ]
  },
  {
   "cell_type": "code",
   "execution_count": 2,
   "id": "e7bef8e6",
   "metadata": {},
   "outputs": [
    {
     "data": {
      "text/plain": [
       "'2.10.0'"
      ]
     },
     "execution_count": 2,
     "metadata": {},
     "output_type": "execute_result"
    }
   ],
   "source": [
    "tf.__version__"
   ]
  },
  {
   "cell_type": "markdown",
   "id": "67038c15",
   "metadata": {},
   "source": [
    "### PreProcessing the Data"
   ]
  },
  {
   "cell_type": "code",
   "execution_count": 11,
   "id": "e491613d",
   "metadata": {},
   "outputs": [
    {
     "name": "stdout",
     "output_type": "stream",
     "text": [
      "Found 8005 images belonging to 2 classes.\n"
     ]
    }
   ],
   "source": [
    "train_datagen=ImageDataGenerator(\n",
    "    rescale=1./255,\n",
    "    shear_range=0.2,\n",
    "    zoom_range=0.2,\n",
    "    horizontal_flip=True,)\n",
    "training_set=train_datagen.flow_from_directory('dog_and_cat_dataset/training_set',\n",
    "                                               target_size=(64, 64),\n",
    "                                                batch_size=32,\n",
    "                                                class_mode='binary')"
   ]
  },
  {
   "cell_type": "code",
   "execution_count": 10,
   "id": "d084eea5",
   "metadata": {},
   "outputs": [
    {
     "name": "stdout",
     "output_type": "stream",
     "text": [
      "Found 2023 images belonging to 2 classes.\n"
     ]
    }
   ],
   "source": [
    "test_datagen=ImageDataGenerator(rescale=1./255)\n",
    "test_set=test_datagen.flow_from_directory('dog_and_cat_dataset/test_set',\n",
    "                                           target_size=(64, 64),\n",
    "                                           batch_size=32,\n",
    "                                           class_mode='binary')"
   ]
  },
  {
   "cell_type": "markdown",
   "id": "5aa58c36",
   "metadata": {},
   "source": [
    "### Building the CNN "
   ]
  },
  {
   "cell_type": "markdown",
   "id": "eb6c1c25",
   "metadata": {},
   "source": [
    "#### Initializing the CNN"
   ]
  },
  {
   "cell_type": "code",
   "execution_count": 12,
   "id": "b06f514e",
   "metadata": {},
   "outputs": [
    {
     "name": "stderr",
     "output_type": "stream",
     "text": [
      "2025-04-19 20:08:31.732754: I tensorflow/core/platform/cpu_feature_guard.cc:193] This TensorFlow binary is optimized with oneAPI Deep Neural Network Library (oneDNN) to use the following CPU instructions in performance-critical operations:  SSE4.1 SSE4.2 AVX AVX2 FMA\n",
      "To enable them in other operations, rebuild TensorFlow with the appropriate compiler flags.\n",
      "2025-04-19 20:08:31.734230: I tensorflow/core/common_runtime/process_util.cc:146] Creating new thread pool with default inter op setting: 2. Tune using inter_op_parallelism_threads for best performance.\n"
     ]
    }
   ],
   "source": [
    "cnn=tf.keras.models.Sequential()"
   ]
  },
  {
   "cell_type": "markdown",
   "id": "46b1f35e",
   "metadata": {},
   "source": [
    "#### Step 1 : Convolution"
   ]
  },
  {
   "cell_type": "code",
   "execution_count": 13,
   "id": "3e5df4ba",
   "metadata": {},
   "outputs": [],
   "source": [
    "cnn.add(tf.keras.layers.Conv2D(filters=32, kernel_size=3, activation='relu', input_shape=[64, 64, 3]))"
   ]
  },
  {
   "cell_type": "markdown",
   "id": "a8ad8c8a",
   "metadata": {},
   "source": [
    "#### Step 2 : Pooling"
   ]
  },
  {
   "cell_type": "code",
   "execution_count": 17,
   "id": "1c1a9b17",
   "metadata": {},
   "outputs": [],
   "source": [
    "cnn.add(tf.keras.layers.MaxPool2D(pool_size=2, strides=2))"
   ]
  },
  {
   "cell_type": "markdown",
   "id": "909e0750",
   "metadata": {},
   "source": [
    "#### Adding a second convolutional layer "
   ]
  },
  {
   "cell_type": "code",
   "execution_count": 18,
   "id": "5f58a2b2",
   "metadata": {},
   "outputs": [],
   "source": [
    "cnn.add(tf.keras.layers.Conv2D(filters=32, kernel_size=3, activation='relu'))\n",
    "cnn.add(tf.keras.layers.MaxPool2D(pool_size=2, strides=2))"
   ]
  },
  {
   "cell_type": "markdown",
   "id": "47b3f288",
   "metadata": {},
   "source": [
    "#### Step 3 : Flattening"
   ]
  },
  {
   "cell_type": "code",
   "execution_count": 19,
   "id": "c3343b0c",
   "metadata": {},
   "outputs": [],
   "source": [
    "cnn.add(tf.keras.layers.Flatten())"
   ]
  },
  {
   "cell_type": "markdown",
   "id": "021aa73a",
   "metadata": {},
   "source": [
    "#### Step 4 : Full Connection"
   ]
  },
  {
   "cell_type": "code",
   "execution_count": 20,
   "id": "f6f0ec06",
   "metadata": {},
   "outputs": [],
   "source": [
    "cnn.add(tf.keras.layers.Dense(units=128, activation='relu'))"
   ]
  },
  {
   "cell_type": "markdown",
   "id": "ef055420",
   "metadata": {},
   "source": [
    "#### Step 5 : Output layer"
   ]
  },
  {
   "cell_type": "code",
   "execution_count": 21,
   "id": "8bca2f8a",
   "metadata": {},
   "outputs": [],
   "source": [
    "cnn.add(tf.keras.layers.Dense(units=1, activation='sigmoid'))"
   ]
  },
  {
   "cell_type": "markdown",
   "id": "9b5ae441",
   "metadata": {},
   "source": [
    "### Training the CNN "
   ]
  },
  {
   "cell_type": "markdown",
   "id": "f63f2726",
   "metadata": {},
   "source": [
    "#### Compiling the CNN"
   ]
  },
  {
   "cell_type": "code",
   "execution_count": 23,
   "id": "4de41028",
   "metadata": {},
   "outputs": [],
   "source": [
    "cnn.compile(optimizer='adam', loss='binary_crossentropy', metrics=['accuracy'])"
   ]
  },
  {
   "cell_type": "markdown",
   "id": "06d0ac3a",
   "metadata": {},
   "source": [
    "#### Training the CNN on the training set and evaluating it on the testing set"
   ]
  },
  {
   "cell_type": "code",
   "execution_count": 24,
   "id": "7138addd",
   "metadata": {},
   "outputs": [
    {
     "name": "stdout",
     "output_type": "stream",
     "text": [
      "Epoch 1/25\n",
      "251/251 [==============================] - 95s 376ms/step - loss: 0.6676 - accuracy: 0.5958 - val_loss: 0.6286 - val_accuracy: 0.6693\n",
      "Epoch 2/25\n",
      "251/251 [==============================] - 87s 348ms/step - loss: 0.6267 - accuracy: 0.6575 - val_loss: 0.6027 - val_accuracy: 0.6826\n",
      "Epoch 3/25\n",
      "251/251 [==============================] - 84s 337ms/step - loss: 0.5785 - accuracy: 0.6954 - val_loss: 0.5910 - val_accuracy: 0.6797\n",
      "Epoch 4/25\n",
      "251/251 [==============================] - 91s 362ms/step - loss: 0.5428 - accuracy: 0.7257 - val_loss: 0.5219 - val_accuracy: 0.7370\n",
      "Epoch 5/25\n",
      "251/251 [==============================] - 92s 368ms/step - loss: 0.5209 - accuracy: 0.7425 - val_loss: 0.5180 - val_accuracy: 0.7435\n",
      "Epoch 6/25\n",
      "251/251 [==============================] - 89s 357ms/step - loss: 0.4987 - accuracy: 0.7578 - val_loss: 0.4935 - val_accuracy: 0.7622\n",
      "Epoch 7/25\n",
      "251/251 [==============================] - 90s 358ms/step - loss: 0.4857 - accuracy: 0.7631 - val_loss: 0.5143 - val_accuracy: 0.7494\n",
      "Epoch 8/25\n",
      "251/251 [==============================] - 89s 355ms/step - loss: 0.4623 - accuracy: 0.7821 - val_loss: 0.4842 - val_accuracy: 0.7741\n",
      "Epoch 9/25\n",
      "251/251 [==============================] - 90s 359ms/step - loss: 0.4407 - accuracy: 0.7906 - val_loss: 0.5272 - val_accuracy: 0.7474\n",
      "Epoch 10/25\n",
      "251/251 [==============================] - 90s 359ms/step - loss: 0.4205 - accuracy: 0.8035 - val_loss: 0.4886 - val_accuracy: 0.7790\n",
      "Epoch 11/25\n",
      "251/251 [==============================] - 92s 366ms/step - loss: 0.3961 - accuracy: 0.8177 - val_loss: 0.4907 - val_accuracy: 0.7692\n",
      "Epoch 12/25\n",
      "251/251 [==============================] - 92s 367ms/step - loss: 0.3980 - accuracy: 0.8192 - val_loss: 0.4756 - val_accuracy: 0.7835\n",
      "Epoch 13/25\n",
      "251/251 [==============================] - 89s 356ms/step - loss: 0.3599 - accuracy: 0.8376 - val_loss: 0.5032 - val_accuracy: 0.7850\n",
      "Epoch 14/25\n",
      "251/251 [==============================] - 93s 372ms/step - loss: 0.3469 - accuracy: 0.8446 - val_loss: 0.5263 - val_accuracy: 0.7519\n",
      "Epoch 15/25\n",
      "251/251 [==============================] - 95s 379ms/step - loss: 0.3335 - accuracy: 0.8543 - val_loss: 0.4842 - val_accuracy: 0.7884\n",
      "Epoch 16/25\n",
      "251/251 [==============================] - 97s 386ms/step - loss: 0.3110 - accuracy: 0.8700 - val_loss: 0.4819 - val_accuracy: 0.7978\n",
      "Epoch 17/25\n",
      "251/251 [==============================] - 93s 371ms/step - loss: 0.2941 - accuracy: 0.8726 - val_loss: 0.4857 - val_accuracy: 0.7978\n",
      "Epoch 18/25\n",
      "251/251 [==============================] - 90s 360ms/step - loss: 0.2823 - accuracy: 0.8768 - val_loss: 0.5064 - val_accuracy: 0.7899\n",
      "Epoch 19/25\n",
      "251/251 [==============================] - 91s 361ms/step - loss: 0.2560 - accuracy: 0.8942 - val_loss: 0.5226 - val_accuracy: 0.7934\n",
      "Epoch 20/25\n",
      "251/251 [==============================] - 92s 366ms/step - loss: 0.2440 - accuracy: 0.8992 - val_loss: 0.5053 - val_accuracy: 0.7919\n",
      "Epoch 21/25\n",
      "251/251 [==============================] - 93s 372ms/step - loss: 0.2271 - accuracy: 0.9086 - val_loss: 0.5378 - val_accuracy: 0.7909\n",
      "Epoch 22/25\n",
      "251/251 [==============================] - 89s 354ms/step - loss: 0.2164 - accuracy: 0.9122 - val_loss: 0.5908 - val_accuracy: 0.7756\n",
      "Epoch 23/25\n",
      "251/251 [==============================] - 93s 371ms/step - loss: 0.2115 - accuracy: 0.9159 - val_loss: 0.5490 - val_accuracy: 0.7998\n",
      "Epoch 24/25\n",
      "251/251 [==============================] - 94s 374ms/step - loss: 0.1839 - accuracy: 0.9282 - val_loss: 0.5930 - val_accuracy: 0.7988\n",
      "Epoch 25/25\n",
      "251/251 [==============================] - 93s 373ms/step - loss: 0.1731 - accuracy: 0.9315 - val_loss: 0.5793 - val_accuracy: 0.7978\n"
     ]
    },
    {
     "data": {
      "text/plain": [
       "<keras.callbacks.History at 0x7d858edc4710>"
      ]
     },
     "execution_count": 24,
     "metadata": {},
     "output_type": "execute_result"
    }
   ],
   "source": [
    "cnn.fit(x = training_set,\n",
    "        validation_data=test_set,\n",
    "        epochs=25)"
   ]
  },
  {
   "cell_type": "markdown",
   "id": "c65c4cf3",
   "metadata": {},
   "source": [
    "### Making a single prediction "
   ]
  },
  {
   "cell_type": "code",
   "execution_count": 31,
   "id": "4b0fd6ee",
   "metadata": {},
   "outputs": [
    {
     "name": "stdout",
     "output_type": "stream",
     "text": [
      "1/1 [==============================] - 0s 18ms/step\n"
     ]
    }
   ],
   "source": [
    "import numpy as np\n",
    "from keras.preprocessing import image\n",
    "from tensorflow.keras.utils import load_img, img_to_array\n",
    "test_image=load_img('dog_and_cat_dataset/single_prediction/dog_and_cat_02.jpg',target_size=(64, 64))\n",
    "test_image=img_to_array(test_image)\n",
    "test_image=np.expand_dims(test_image, axis=0)\n",
    "result= cnn.predict(test_image)\n",
    "training_set.class_indices\n",
    "if result[0][0] == 1:\n",
    "    prediction='dog'\n",
    "else:\n",
    "    prediction='cat'"
   ]
  },
  {
   "cell_type": "code",
   "execution_count": 32,
   "id": "2e2886f2",
   "metadata": {},
   "outputs": [
    {
     "name": "stdout",
     "output_type": "stream",
     "text": [
      "cat\n"
     ]
    }
   ],
   "source": [
    "print(prediction)"
   ]
  },
  {
   "cell_type": "markdown",
   "id": "b275fbfd",
   "metadata": {},
   "source": [
    "## Saving the CNN Model"
   ]
  },
  {
   "cell_type": "code",
   "execution_count": 33,
   "id": "05604f9a",
   "metadata": {},
   "outputs": [],
   "source": [
    "cnn.save('dog_and_cat_model.h5')"
   ]
  },
  {
   "cell_type": "markdown",
   "id": "8409fee0",
   "metadata": {},
   "source": [
    "### Code to load the model"
   ]
  },
  {
   "cell_type": "code",
   "execution_count": 34,
   "id": "062713d4",
   "metadata": {},
   "outputs": [],
   "source": [
    "from tensorflow.keras.models import load_model\n",
    "model=load_model('dog_and_cat_model.h5')"
   ]
  }
 ],
 "metadata": {
  "kernelspec": {
   "display_name": "unstop_courses",
   "language": "python",
   "name": "python3"
  },
  "language_info": {
   "codemirror_mode": {
    "name": "ipython",
    "version": 3
   },
   "file_extension": ".py",
   "mimetype": "text/x-python",
   "name": "python",
   "nbconvert_exporter": "python",
   "pygments_lexer": "ipython3",
   "version": "3.7.16"
  }
 },
 "nbformat": 4,
 "nbformat_minor": 5
}
