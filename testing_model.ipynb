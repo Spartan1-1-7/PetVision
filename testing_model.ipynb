{
 "cells": [
  {
   "cell_type": "markdown",
   "id": "be236b82",
   "metadata": {},
   "source": [
    "### Importing needed libraries"
   ]
  },
  {
   "cell_type": "code",
   "execution_count": 1,
   "id": "a82f2323",
   "metadata": {},
   "outputs": [],
   "source": [
    "import numpy as np\n",
    "from keras.preprocessing import image\n",
    "from tensorflow.keras.utils import load_img, img_to_array\n",
    "from keras.models import load_model"
   ]
  },
  {
   "cell_type": "markdown",
   "id": "dfaef160",
   "metadata": {},
   "source": [
    "### Importing the model"
   ]
  },
  {
   "cell_type": "code",
   "execution_count": 2,
   "id": "a94c63a1",
   "metadata": {},
   "outputs": [
    {
     "name": "stderr",
     "output_type": "stream",
     "text": [
      "2025-04-20 01:56:40.795796: I tensorflow/core/platform/cpu_feature_guard.cc:193] This TensorFlow binary is optimized with oneAPI Deep Neural Network Library (oneDNN) to use the following CPU instructions in performance-critical operations:  SSE4.1 SSE4.2 AVX AVX2 FMA\n",
      "To enable them in other operations, rebuild TensorFlow with the appropriate compiler flags.\n",
      "2025-04-20 01:56:40.797260: I tensorflow/core/common_runtime/process_util.cc:146] Creating new thread pool with default inter op setting: 2. Tune using inter_op_parallelism_threads for best performance.\n"
     ]
    }
   ],
   "source": [
    "cnn= load_model('dog_and_cat_model.h5')"
   ]
  },
  {
   "cell_type": "markdown",
   "id": "907f8a75",
   "metadata": {},
   "source": [
    "### Testing for instance "
   ]
  },
  {
   "cell_type": "code",
   "execution_count": 5,
   "id": "304c4584",
   "metadata": {},
   "outputs": [
    {
     "name": "stdout",
     "output_type": "stream",
     "text": [
      "1/1 [==============================] - 0s 20ms/step\n"
     ]
    }
   ],
   "source": [
    "test_image=load_img('dog_and_cat_dataset/single_prediction/dog_and_cat_01.jpeg',target_size=(64, 64))\n",
    "test_image=img_to_array(test_image)\n",
    "test_image=np.expand_dims(test_image, axis=0)\n",
    "result= cnn.predict(test_image)\n",
    "# training_set.class_indices\n",
    "if result[0][0] == 1:\n",
    "    prediction='dog'\n",
    "else:\n",
    "    prediction='cat'"
   ]
  },
  {
   "cell_type": "code",
   "execution_count": 6,
   "id": "2cb08561",
   "metadata": {},
   "outputs": [
    {
     "name": "stdout",
     "output_type": "stream",
     "text": [
      "dog\n"
     ]
    }
   ],
   "source": [
    "print(prediction)"
   ]
  },
  {
   "cell_type": "markdown",
   "id": "442ea82c",
   "metadata": {},
   "source": []
  }
 ],
 "metadata": {
  "kernelspec": {
   "display_name": "unstop_courses",
   "language": "python",
   "name": "python3"
  },
  "language_info": {
   "codemirror_mode": {
    "name": "ipython",
    "version": 3
   },
   "file_extension": ".py",
   "mimetype": "text/x-python",
   "name": "python",
   "nbconvert_exporter": "python",
   "pygments_lexer": "ipython3",
   "version": "3.7.16"
  }
 },
 "nbformat": 4,
 "nbformat_minor": 5
}
